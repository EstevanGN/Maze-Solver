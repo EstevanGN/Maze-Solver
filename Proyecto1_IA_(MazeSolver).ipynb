{
  "nbformat": 4,
  "nbformat_minor": 0,
  "metadata": {
    "colab": {
      "provenance": [],
      "authorship_tag": "ABX9TyMmlV+zfSUfFJNyBWEVD9Ns",
      "include_colab_link": true
    },
    "kernelspec": {
      "name": "python3",
      "display_name": "Python 3"
    },
    "language_info": {
      "name": "python"
    }
  },
  "cells": [
    {
      "cell_type": "markdown",
      "metadata": {
        "id": "view-in-github",
        "colab_type": "text"
      },
      "source": [
        "<a href=\"https://colab.research.google.com/github/EstevanGN/Maze-Solver/blob/main/Proyecto1_IA_(MazeSolver).ipynb\" target=\"_parent\"><img src=\"https://colab.research.google.com/assets/colab-badge.svg\" alt=\"Open In Colab\"/></a>"
      ]
    },
    {
      "cell_type": "code",
      "execution_count": 3,
      "metadata": {
        "id": "quKQwIRFO_jQ",
        "colab": {
          "base_uri": "https://localhost:8080/"
        },
        "outputId": "11a5693f-885d-4928-c6c8-04f204bdeb98"
      },
      "outputs": [
        {
          "output_type": "stream",
          "name": "stdout",
          "text": [
            "ingrese el tamaño del laberinto\n",
            "5\n",
            "[[1, 1, 1, 1, 1], [1, 0, 1, 1, 1], [1, 0, 1, 0, 1], [1, 0, 0, 0, 1], [1, 0, 1, 0, 1], [1, 1, 1, 0, 1]]\n"
          ]
        }
      ],
      "source": [
        "import csv\n",
        " \n",
        "class Laberinto:\n",
        "  def __init__(self,tamaño): \n",
        "    self.tamaño=tamaño\n",
        "    self.rep=list()\n",
        "    self.inicio=(1,2)\n",
        "    self.final=(self.tamaño,self.tamaño-1)\n",
        "    self.CrearMatriz(tamaño)\n",
        "\n",
        "  def CrearMatriz(self,tamaño):  \n",
        "    if(tamaño == 5):      \n",
        "      cadena=\"maze_5x5.csv\"\n",
        "    elif(tamaño == 10):      \n",
        "      cadena=\"maze_10x10.csv\"\n",
        "    elif(tamaño == 50):  \n",
        "      cadena=\"maze_50x50.csv\"\n",
        "    elif(tamaño == 100):      \n",
        "      cadena=\"maze_100x100.csv\"\n",
        "    elif(tamaño == 400):      \n",
        "      cadena=\"maze_400x400.csv\"\n",
        "    primera_fila=list()\n",
        "    for i in range(tamaño):\n",
        "      primera_fila.append(1)\n",
        "    self.rep.append(primera_fila)  \n",
        "    with open(cadena, newline='') as File:  \n",
        "        reader = csv.reader(File)\n",
        "        for row in reader:\n",
        "          if(row != []):\n",
        "            fila=list()\n",
        "            for c in row:\n",
        "              if(c==\"c\"):\n",
        "                fila.append(0)\n",
        "              else:\n",
        "                fila.append(1)\n",
        "            self.rep.append(fila)      \n",
        "\n",
        "  def imprimirMatriz(self):\n",
        "    print(self.rep)\n",
        "\n",
        "a=input(\"ingrese el tamaño del laberinto\\n\")\n",
        "lab=Laberinto(int(a))\n",
        "lab.imprimirMatriz()    "
      ]
    }
  ]
}